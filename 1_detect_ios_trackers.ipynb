{
 "cells": [
  {
   "cell_type": "code",
   "execution_count": null,
   "metadata": {},
   "outputs": [],
   "source": [
    "import json\n",
    "import itertools\n",
    "import re\n",
    "import os\n",
    "import pandas as pd"
   ]
  },
  {
   "cell_type": "code",
   "execution_count": null,
   "metadata": {},
   "outputs": [],
   "source": [
    "with open('data/ios_signatures.json', encoding='utf-8') as fh:\n",
    "    signatures = json.load(fh)"
   ]
  },
  {
   "cell_type": "code",
   "execution_count": null,
   "metadata": {},
   "outputs": [],
   "source": [
    "regexs = []\n",
    "for signature in signatures:\n",
    "    regexs.append(signature['regex'])\n",
    "\n",
    "# taken from: https://github.com/Exodus-Privacy/exodus-core\n",
    "compiled_tracker_signature = [re.compile(signature['regex'], flags=re.MULTILINE | re.UNICODE)\n",
    "                                       for signature in signatures]"
   ]
  },
  {
   "cell_type": "code",
   "execution_count": null,
   "metadata": {},
   "outputs": [],
   "source": [
    "# taken from: https://github.com/Exodus-Privacy/exodus-core\n",
    "def detect_trackers(filename):\n",
    "    with open(filename, 'r') as f:\n",
    "        class_list = f.readlines()\n",
    "    \n",
    "    args = [(compiled_tracker_signature[index], tracker, class_list)\n",
    "                for (index, tracker) in enumerate(signatures)]\n",
    "\n",
    "    results = []\n",
    "\n",
    "    def _detect_tracker(sig, tracker, class_list):\n",
    "        for clazz in class_list:\n",
    "            if sig.search(clazz):\n",
    "                return tracker\n",
    "        return None\n",
    "\n",
    "    for res in itertools.starmap(_detect_tracker, args):\n",
    "        if res:\n",
    "            results.append(res)\n",
    "\n",
    "    trackers = [t['id'] for t in results if t is not None]\n",
    "\n",
    "    return trackers\n",
    "\n",
    "folder = \"ios_log/classes\"\n",
    "files = os.listdir(folder)\n",
    "\n",
    "from multiprocessing import Pool\n",
    "import tqdm\n",
    "\n",
    "from pathlib import Path\n",
    "\n",
    "def detect(filename):\n",
    "    results = {}\n",
    "    results['app'] = Path(filename).stem[0:-8]\n",
    "    results['trackers'] = detect_trackers(folder + filename)\n",
    "    return results\n",
    "\n",
    "pool = Pool(processes=4)\n",
    "trackers = {}\n",
    "for result in tqdm.tqdm(pool.imap_unordered(detect, files), total=len(files)):\n",
    "    trackers[result['app']] = result['trackers']\n",
    "    \n",
    "with open('data_processed/ios_trackers.json', 'w', encoding='utf-8') as f:\n",
    "     json.dump(trackers, f)"
   ]
  }
 ],
 "metadata": {
  "kernelspec": {
   "display_name": "Python 3",
   "language": "python",
   "name": "python3"
  },
  "language_info": {
   "codemirror_mode": {
    "name": "ipython",
    "version": 3
   },
   "file_extension": ".py",
   "mimetype": "text/x-python",
   "name": "python",
   "nbconvert_exporter": "python",
   "pygments_lexer": "ipython3",
   "version": "3.8.10"
  }
 },
 "nbformat": 4,
 "nbformat_minor": 4
}
